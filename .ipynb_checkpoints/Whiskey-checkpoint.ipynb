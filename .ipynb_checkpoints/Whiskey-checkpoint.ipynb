{
 "cells": [
  {
   "cell_type": "code",
   "execution_count": null,
   "metadata": {},
   "outputs": [],
   "source": [
    "from selenium import webdriver\n",
    "import pandas as pd\n",
    "import base64"
   ]
  },
  {
   "cell_type": "code",
   "execution_count": 206,
   "metadata": {},
   "outputs": [],
   "source": []
  },
  {
   "cell_type": "markdown",
   "metadata": {},
   "source": [
    "## 网站一"
   ]
  },
  {
   "cell_type": "markdown",
   "metadata": {},
   "source": [
    "### 问题一"
   ]
  },
  {
   "cell_type": "code",
   "execution_count": null,
   "metadata": {},
   "outputs": [],
   "source": [
    "browser = webdriver.Chrome()\n",
    "browser.get('https://www.whiskybase.com/whiskies/brand/81362/ardbeg/')\n",
    "rates=[]\n",
    "names=[]\n",
    "for i in range(1,6):\n",
    "    rate = browser.find_element_by_xpath(\"//*[@id='distillery-whisky-ratings']/ul/li[\"+str(i)+\"]/div[2]\").text\n",
    "    rates.append(rate)\n",
    "    name = browser.find_element_by_xpath(\"//*[@id='distillery-whisky-ratings']/ul/li[\"+str(i)+\"]/div[3]\").text\n",
    "    names.append(name)\n",
    "averge_score = browser.find_element_by_xpath(\"//*[@id='distillery-average-num']\").text\n",
    "votes = browser.find_element_by_xpath(\"//*[@id='distillery-votes']\").text\n",
    "dic = {'name':names,\n",
    "      'rating':rates,\n",
    "      'votes':votes,\n",
    "      'averge_score':averge_score}\n",
    "question11_df = pd.DataFrame(dic)\n",
    "question11_df.to_csv(\"Question11Answer.csv\")"
   ]
  },
  {
   "cell_type": "code",
   "execution_count": null,
   "metadata": {},
   "outputs": [],
   "source": []
  },
  {
   "cell_type": "markdown",
   "metadata": {},
   "source": [
    "### 问题二\n"
   ]
  },
  {
   "cell_type": "code",
   "execution_count": 306,
   "metadata": {},
   "outputs": [],
   "source": [
    "name_list=[]\n",
    "stated_age_list =[]\n",
    "strength_list =[]\n",
    "size_list =[]\n",
    "bottled_list=[]\n",
    "casknumber_list=[]\n",
    "rating_list=[]\n",
    "version_list=[]\n",
    "shopping_link_list=[]\n",
    "for i in range(2,9):\n",
    "    name = browser.find_element_by_xpath(\"//*[@id='compositor-material']/table/tbody/tr[\"+str(i)+\"]/td[3]/a\").text\n",
    "    name_list.append(name)\n",
    "    \n",
    "    stated_age = browser.find_element_by_xpath(\"//*[@id='compositor-material']/table/tbody/tr[\"+str(i)+\"]/td[4]\").text\n",
    "    stated_age_list.append(stated_age)\n",
    "    \n",
    "    strength =  browser.find_element_by_xpath(\"//*[@id='compositor-material']/table/tbody/tr[\"+str(i)+\"]/td[5]\").text\n",
    "    strength_list.append(strength)\n",
    "    \n",
    "    size =  browser.find_element_by_xpath(\"//*[@id='compositor-material']/table/tbody/tr[\"+str(i)+\"]/td[6]\").text\n",
    "    size_list.append(size) \n",
    "    \n",
    "    bottled =  browser.find_element_by_xpath(\"//*[@id='compositor-material']/table/tbody/tr[\"+str(i)+\"]/td[7]\").text\n",
    "    bottled_list.append(bottled) \n",
    "    \n",
    "    casknumber =  browser.find_element_by_xpath(\"//*[@id='compositor-material']/table/tbody/tr[\"+str(i)+\"]/td[8]\").text\n",
    "    casknumber_list.append(casknumber) \n",
    "    \n",
    "    rating =  browser.find_element_by_xpath(\"//*[@id='compositor-material']/table/tbody/tr[\"+str(i)+\"]/td[9]\").text\n",
    "    rating_list.append(rating)\n",
    "    \n",
    "    version =  browser.find_element_by_xpath(\"//*[@id='compositor-material']/table/tbody/tr[\"+str(i)+\"]/td[10]\").text\n",
    "    version_list.append(version)\n",
    "    \n",
    "    shopping_link =  browser.find_element_by_xpath(\"//*[@id='compositor-material']/table/tbody/tr[\"+str(i)+\"]/td[3]//a\").get_attribute(\"href\")\n",
    "    shopping_link_list.append(shopping_link)\n",
    "dic={'name':name_list,\n",
    "     'stated_age':stated_age_list,\n",
    "    'size':size_list,\n",
    "    'bottled':bottled_list,\n",
    "    'casknumber0':casknumber_list,\n",
    "    'rating':rating_list,\n",
    "    'version':version_list,\n",
    "    'shopping_link':shopping_link_list}\n",
    "question12_df = pd.DataFrame(dic)\n",
    "question12_df.to_csv(\"Question12Answer.csv\")"
   ]
  },
  {
   "cell_type": "markdown",
   "metadata": {},
   "source": [
    "## 网站二"
   ]
  },
  {
   "cell_type": "code",
   "execution_count": null,
   "metadata": {},
   "outputs": [],
   "source": [
    "browser1 = webdriver.Chrome()\n",
    "browser1.get('https://www.rarewhisky101.com/indices/market-performance-indices/rw-apex-indices')"
   ]
  },
  {
   "cell_type": "code",
   "execution_count": 307,
   "metadata": {},
   "outputs": [],
   "source": [
    "page = browser1.page_source\n",
    "pattern = re.compile(r'atob\\(.*\\)')\n",
    "records = pattern.findall(page)#寻找atob格式的数据\n",
    "data = []\n",
    "for i in records:\n",
    "    data.append(i.split(',')) \n",
    "def refine_data(data_list):\n",
    "    for inx,val in enumerate(data_list):\n",
    "        data_list[inx] = str(base64.b64decode(val[6:-2]),encoding=\"utf-8\")\n",
    "\n",
    "date = data[0]\n",
    "Raw_Apex_1000 = data[1]\n",
    "Raw_Apex_250 = data[2]\n",
    "Raw_Apex_100 = data[3]\n",
    "\n",
    "refine_data(date)        \n",
    "refine_data(Raw_Apex_1000)\n",
    "refine_data(Raw_Apex_250)\n",
    "refine_data(Raw_Apex_100)\n",
    "\n",
    "dic = {'date':date,\n",
    "      'Raw_Apex_1000 ':Raw_Apex_1000,\n",
    "      'Raw_Apex_250' :Raw_Apex_250,\n",
    "      'Raw_Apex_100' : Raw_Apex_100}\n",
    "question21_df = pd.DataFrame(dic)\n",
    "question21_df.to_csv(\"Question2Answer.csv\")"
   ]
  },
  {
   "cell_type": "code",
   "execution_count": null,
   "metadata": {},
   "outputs": [],
   "source": []
  },
  {
   "cell_type": "code",
   "execution_count": 65,
   "metadata": {},
   "outputs": [],
   "source": []
  },
  {
   "cell_type": "code",
   "execution_count": 192,
   "metadata": {},
   "outputs": [],
   "source": []
  },
  {
   "cell_type": "code",
   "execution_count": 193,
   "metadata": {},
   "outputs": [],
   "source": []
  },
  {
   "cell_type": "code",
   "execution_count": 194,
   "metadata": {},
   "outputs": [],
   "source": [
    "\n",
    "\n"
   ]
  },
  {
   "cell_type": "code",
   "execution_count": null,
   "metadata": {},
   "outputs": [],
   "source": []
  },
  {
   "cell_type": "code",
   "execution_count": null,
   "metadata": {},
   "outputs": [],
   "source": []
  },
  {
   "cell_type": "code",
   "execution_count": null,
   "metadata": {},
   "outputs": [],
   "source": []
  }
 ],
 "metadata": {
  "kernelspec": {
   "display_name": "Python 3",
   "language": "python",
   "name": "python3"
  },
  "language_info": {
   "codemirror_mode": {
    "name": "ipython",
    "version": 3
   },
   "file_extension": ".py",
   "mimetype": "text/x-python",
   "name": "python",
   "nbconvert_exporter": "python",
   "pygments_lexer": "ipython3",
   "version": "3.7.2"
  },
  "latex_envs": {
   "LaTeX_envs_menu_present": true,
   "autoclose": false,
   "autocomplete": true,
   "bibliofile": "biblio.bib",
   "cite_by": "apalike",
   "current_citInitial": 1,
   "eqLabelWithNumbers": true,
   "eqNumInitial": 1,
   "hotkeys": {
    "equation": "Ctrl-E",
    "itemize": "Ctrl-I"
   },
   "labels_anchors": false,
   "latex_user_defs": false,
   "report_style_numbering": false,
   "user_envs_cfg": false
  },
  "toc": {
   "base_numbering": 1,
   "nav_menu": {},
   "number_sections": true,
   "sideBar": true,
   "skip_h1_title": false,
   "title_cell": "Table of Contents",
   "title_sidebar": "Contents",
   "toc_cell": false,
   "toc_position": {},
   "toc_section_display": true,
   "toc_window_display": false
  }
 },
 "nbformat": 4,
 "nbformat_minor": 4
}
